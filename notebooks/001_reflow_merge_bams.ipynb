{
 "cells": [
  {
   "cell_type": "code",
   "execution_count": null,
   "metadata": {},
   "outputs": [],
   "source": [
    "import pandas as pd\n",
    "\n",
    "chunksize = 10\n",
    "\n",
    "bams = pd.read_csv('s3://olgabot-maca/facs_bams.csv')\n",
    "# bams = bams.rename(columns={'sample_id': 'sample_name'})\n",
    "print(bams.shape)\n",
    "bams.head()"
   ]
  },
  {
   "cell_type": "code",
   "execution_count": null,
   "metadata": {},
   "outputs": [],
   "source": [
    "import numpy as np"
   ]
  },
  {
   "cell_type": "code",
   "execution_count": null,
   "metadata": {},
   "outputs": [],
   "source": [
    "bams.head()"
   ]
  },
  {
   "cell_type": "code",
   "execution_count": null,
   "metadata": {},
   "outputs": [],
   "source": [
    "chunksize = 10\n",
    "\n",
    "groupby = np.arange(len(bams))//10\n",
    "\n",
    "def pipe_join(names):\n",
    "    return \"|\".join(names)\n",
    "\n",
    "new_dfs = []\n",
    "\n",
    "sample_names = bams.groupby(groupby)['sample_id'].apply(pipe_join)\n",
    "new_bams = bams.groupby(groupby)['bam'].apply(pipe_join)\n",
    "\n",
    "reflow_bams = pd.concat({\"sample_names\":sample_names, \"bams\":new_bams}, axis=1)\n",
    "reflow_bams['output'] = f's3://olgabot-maca/facs/merge_tabula_muris/merged_chunksize={chunksize}/merged_' + reflow_bams.index.astype(str) + '.bam'\n",
    "reflow_bams.index.name = 'id'\n",
    "reflow_bams.head()"
   ]
  },
  {
   "cell_type": "code",
   "execution_count": null,
   "metadata": {},
   "outputs": [],
   "source": [
    "samples = reflow_bams"
   ]
  },
  {
   "cell_type": "code",
   "execution_count": null,
   "metadata": {},
   "outputs": [],
   "source": [
    "import json\n",
    "\n",
    "folder = '../merge_chunksize={chunksize}'\n",
    "\n",
    "! mkdir -p $folder\n",
    "assert samples.index.is_unique\n",
    "samples.to_csv(f'{folder}/samples.csv')\n",
    "\n",
    "config = \t{\n",
    "\t\t\"program\": \"../reflow/merge_bams.rf\",\n",
    "\t\t\"runs_file\": \"samples.csv\"\n",
    "\t}\n",
    "\n",
    "with open(f'{folder}/config.json', 'w') as f:\n",
    "    json.dump(config, f)\n",
    "    \n",
    "! head -n 2 $folder/samples.csv $folder/config.json"
   ]
  },
  {
   "cell_type": "code",
   "execution_count": null,
   "metadata": {},
   "outputs": [],
   "source": []
  }
 ],
 "metadata": {
  "kernelspec": {
   "display_name": "Python 3",
   "language": "python",
   "name": "python3"
  },
  "language_info": {
   "codemirror_mode": {
    "name": "ipython",
    "version": 3
   },
   "file_extension": ".py",
   "mimetype": "text/x-python",
   "name": "python",
   "nbconvert_exporter": "python",
   "pygments_lexer": "ipython3",
   "version": "3.6.3"
  }
 },
 "nbformat": 4,
 "nbformat_minor": 2
}

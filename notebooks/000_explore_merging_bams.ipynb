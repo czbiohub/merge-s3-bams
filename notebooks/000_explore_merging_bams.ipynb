{
 "cells": [
  {
   "cell_type": "code",
   "execution_count": 8,
   "metadata": {},
   "outputs": [
    {
     "name": "stdout",
     "output_type": "stream",
     "text": [
      "(54912, 3)\n"
     ]
    },
    {
     "data": {
      "text/html": [
       "<div>\n",
       "<style scoped>\n",
       "    .dataframe tbody tr th:only-of-type {\n",
       "        vertical-align: middle;\n",
       "    }\n",
       "\n",
       "    .dataframe tbody tr th {\n",
       "        vertical-align: top;\n",
       "    }\n",
       "\n",
       "    .dataframe thead th {\n",
       "        text-align: right;\n",
       "    }\n",
       "</style>\n",
       "<table border=\"1\" class=\"dataframe\">\n",
       "  <thead>\n",
       "    <tr style=\"text-align: right;\">\n",
       "      <th></th>\n",
       "      <th>sample_id</th>\n",
       "      <th>bam</th>\n",
       "      <th>bai</th>\n",
       "    </tr>\n",
       "  </thead>\n",
       "  <tbody>\n",
       "    <tr>\n",
       "      <th>0</th>\n",
       "      <td>A1-B000126-3_39_F-1-1_S289</td>\n",
       "      <td>s3://czbiohub-maca/remux_data/170925_A00111_00...</td>\n",
       "      <td>s3://czbiohub-maca/remux_data/170925_A00111_00...</td>\n",
       "    </tr>\n",
       "    <tr>\n",
       "      <th>1</th>\n",
       "      <td>A1-B000127-3_38_F-1-1_S1</td>\n",
       "      <td>s3://czbiohub-maca/remux_data/170914_A00111_00...</td>\n",
       "      <td>s3://czbiohub-maca/remux_data/170914_A00111_00...</td>\n",
       "    </tr>\n",
       "    <tr>\n",
       "      <th>2</th>\n",
       "      <td>A1-B000167-3_56_F-1-1_S228</td>\n",
       "      <td>s3://czbiohub-maca/remux_data/170925_A00111_00...</td>\n",
       "      <td>s3://czbiohub-maca/remux_data/170925_A00111_00...</td>\n",
       "    </tr>\n",
       "    <tr>\n",
       "      <th>3</th>\n",
       "      <td>A1-B000168-3_57_F-1-1_S177</td>\n",
       "      <td>s3://czbiohub-maca/remux_data/170925_A00111_00...</td>\n",
       "      <td>s3://czbiohub-maca/remux_data/170925_A00111_00...</td>\n",
       "    </tr>\n",
       "    <tr>\n",
       "      <th>4</th>\n",
       "      <td>A1-B000412-3_56_F-1-1_S110</td>\n",
       "      <td>s3://czbiohub-maca/remux_data/170914_A00111_00...</td>\n",
       "      <td>s3://czbiohub-maca/remux_data/170914_A00111_00...</td>\n",
       "    </tr>\n",
       "  </tbody>\n",
       "</table>\n",
       "</div>"
      ],
      "text/plain": [
       "                    sample_id  \\\n",
       "0  A1-B000126-3_39_F-1-1_S289   \n",
       "1    A1-B000127-3_38_F-1-1_S1   \n",
       "2  A1-B000167-3_56_F-1-1_S228   \n",
       "3  A1-B000168-3_57_F-1-1_S177   \n",
       "4  A1-B000412-3_56_F-1-1_S110   \n",
       "\n",
       "                                                 bam  \\\n",
       "0  s3://czbiohub-maca/remux_data/170925_A00111_00...   \n",
       "1  s3://czbiohub-maca/remux_data/170914_A00111_00...   \n",
       "2  s3://czbiohub-maca/remux_data/170925_A00111_00...   \n",
       "3  s3://czbiohub-maca/remux_data/170925_A00111_00...   \n",
       "4  s3://czbiohub-maca/remux_data/170914_A00111_00...   \n",
       "\n",
       "                                                 bai  \n",
       "0  s3://czbiohub-maca/remux_data/170925_A00111_00...  \n",
       "1  s3://czbiohub-maca/remux_data/170914_A00111_00...  \n",
       "2  s3://czbiohub-maca/remux_data/170925_A00111_00...  \n",
       "3  s3://czbiohub-maca/remux_data/170925_A00111_00...  \n",
       "4  s3://czbiohub-maca/remux_data/170914_A00111_00...  "
      ]
     },
     "execution_count": 8,
     "metadata": {},
     "output_type": "execute_result"
    }
   ],
   "source": [
    "import pandas as pd\n",
    "\n",
    "chunksize = 10\n",
    "\n",
    "bams = pd.read_csv('s3://olgabot-maca/facs_bams.csv')\n",
    "print(bams.shape)\n",
    "bams.head()"
   ]
  },
  {
   "cell_type": "code",
   "execution_count": 5,
   "metadata": {},
   "outputs": [
    {
     "name": "stdout",
     "output_type": "stream",
     "text": [
      "download: s3://czbiohub-maca/remux_data/170925_A00111_0066_AH3TKNDMXX/results/D1-MAA000638-3_9_M-1-1_S159.mus.Aligned.out.sorted.bam to ../../../mnt/data/D1-MAA000638-3_9_M-1-1_S159.mus.Aligned.out.sorted.bam\n"
     ]
    }
   ],
   "source": [
    "! aws s3 cp s3://czbiohub-maca/remux_data/170925_A00111_0066_AH3TKNDMXX/results/D1-MAA000638-3_9_M-1-1_S159.mus.Aligned.out.sorted.bam /mnt/data/"
   ]
  },
  {
   "cell_type": "code",
   "execution_count": 3,
   "metadata": {},
   "outputs": [
    {
     "name": "stdout",
     "output_type": "stream",
     "text": [
      "A00111:66:H3TKNDMXX:2:2334:28709:16767\t163\tchr1\t15636372\t255\t9S78M13S\t=\t15636372\t78\tGTACATGGGGTGGTCCCGGCACTTAGCCCAATGCTGAGGCAGAAGGACTGTGAGTTTGAGGCCAGCCCAGGCAACACAATGAAATTCCTGTCTCTTATAC\tFFFFFFFFFFFFFFFFFFFFFFFFFFFFFFFFFFFFFFFFFFFFFFFFFFFFFFFFFFFFFFFFFFFFFFFFFFFFFFFFFFFFFFFFFFFFFFFFFFFF\tNH:i:1\tHI:i:1\tNM:i:0\tMD:Z:78\r\n",
      "A00111:66:H3TKNDMXX:2:2462:24587:23437\t99\tchr1\t15636372\t255\t9S89M2S\t=\t15636400\t101\tGTACATGGGGTGGTCCCGGCACTTAGCCCAATGCTGAGGCAGAAGGACTGTGAGTTTGAGGCCAGCCCAGGCAACACAATGAAATTCTGTCCCAAAAAAA\tFFFFFFFFFFFFFFFFFFFFFFFFFFFFFFFFFFFFFFFFFFFFFFFFFFFFFFFFFFFFFFFFFFFFFFFFFFFFFFFFFFFFFFFFFFFFFFFFFFFF\tNH:i:1\tHI:i:1\tNM:i:0\tMD:Z:89\r\n",
      "A00111:66:H3TKNDMXX:2:2334:28709:16767\t83\tchr1\t15636372\t255\t22S78M\t=\t15636372\t-78\tGTATAAGAGACAGGTACATGGGGTGGTCCCGGCACTTAGCCCAATGCTGAGGCAGAAGGACTGTGAGTTTGAGGCCAGCCCAGGCAACACAATGAAATTC\tFFFFFFFFFFFFFFFFFFFFFFFFFFFFFFFFFFFFFFFFFFFFFFFFFFFFFFFFFFFFFFFFFFFFFFFFFFFFFFFFFFFFFFFFFFFFFFFFFFFF\tNH:i:1\tHI:i:1\tNM:i:0\tMD:Z:78\r\n",
      "A00111:66:H3TKNDMXX:2:2462:24587:23437\t147\tchr1\t15636400\t255\t73M27S\t=\t15636372\t-101\tGGCAGAAGGAATGTGAGTTTGAGGCCACCCCAGGCAACACAATGAAATTATGTCCCAAAAAAAAAAAAAAAAAAAAAAAAAAAGTACTCTGCGTTGATAC\tF------F---F-F---FFF--F-F---FFF--F-FF-F-F-F-FFFFF-FFFFF8FFFFFFFFFFFFFFFFFFFFFFFFFFFFFFFFFFFFFFFFFFFF\tNH:i:1\tHI:i:1\tNM:i:6\tMD:Z:10C16G21C11T0C4C5\r\n",
      "A00111:66:H3TKNDMXX:1:1206:27841:23312\t99\tchr1\t24188162\t255\t41M59S\t=\t24613231\t425169\tCTTTTTTTTTTTTTTTTTTTTTTTTTTTTTTTTGTTTTTTTTTTTTTTTTTTTTTTTTTTTTTTTTTTTTTAAAAAAAAAAAAATATGTTGTGTTTTTTA\tFFFFFFFFFFFFFFFFFFFFFFFFFFFFFFFFF88FFFFFFFFFFFFFFFFFFFFFFFFFFFFFFFFF----------F-FF-FF------------F--\tNH:i:1\tHI:i:1\tNM:i:1\tMD:Z:34G6\r\n",
      "A00111:66:H3TKNDMXX:2:1485:8440:22717\t419\tchr1\t24596998\t1\t18M16926N79M3S\t=\t24614281\t17383\tGGTATCAACGCAGAGTACTTTTTTTTTTTTTTTTTTTTTTTTTTTTTTAATTTTTTATAATGTAGATATTGGATTAATAGGAGGGTGAATACGTAGGGTT\tFFFFFFFFFFF8FFFFFFFFFFFFFFFFFFFFFFFFFFFFFFFFFFFFFFF-F8-FF8----F----F-------F------FFF--FF-F----F---F\tNH:i:3\tHI:i:2\tNM:i:30\tMD:Z:9T0G1A0G3G1A1G1G0A1A1G0C0A1G0A0G3G0G1G0G0G1C0A1T2G1A4C10A2C3C20\tXS:A:-\r\n",
      "A00111:66:H3TKNDMXX:1:1263:3857:2065\t419\tchr1\t24611596\t3\t100M\t=\t24611651\t155\tGTTATAATTATTCCTCATAGGGAGAGAAGGATGAAGGGGTATGCTATATATTTTGTTAGTGGGTCTAGAATAATGGAGATGCGAATTATTCCGTAACTAC\tFFFFFFFFFFFFFFFFFFFFFFFFFFFFFFFFFFFFFFFFFFFFFFFFFFFFFFFFFFFFFFFFFFFFFFFFFFFFFFFFFFFFFFFFFFFF-FFFFFFF\tNH:i:2\tHI:i:2\tNM:i:0\tMD:Z:100\r\n",
      "A00111:66:H3TKNDMXX:1:2214:10818:26428\t355\tchr1\t24611596\t3\t44S54M2S\t=\t24611660\t155\tTATCAACGCAGAGTACTTTTTTTTTTTTTTTTTTTTTTTTTTTTGTTATAATTATTCCTCATAGGGAGATAAGGATGAAGGGGTATGCGATATATTTTTT\tFFFFFFFFFFFFF8FFFFFFFFFFFFFFFFFFFFFFFFFFFFFF8FF8F88-F8FF8F---F--FF-FF--F-----FF-F-FF-F---FF-FFFFFF-F\tNH:i:2\tHI:i:2\tNM:i:2\tMD:Z:25G18T9\r\n",
      "A00111:66:H3TKNDMXX:2:1175:12472:7874\t419\tchr1\t24611597\t3\t100M\t=\t24611660\t154\tTTATAATTATTCCTCATAGGGAGAGAAGGATGAAGGGGTATGCTATATATTTTGTTAGTGGGTCTAGAATAATGGAGATGCGAATTATTCCGTAACTACC\tFFFFFFFFFFFFFFFFFFFFFFFFFFFFFFFFFFFFFFFFFFFFFFFFFFFFFFFFFFFFFFFFFFFFFFFFFFFFFFFFFFFFFFFFFFFFFFFFFFFF\tNH:i:2\tHI:i:2\tNM:i:0\tMD:Z:100\r\n",
      "A00111:66:H3TKNDMXX:1:1241:21305:26584\t419\tchr1\t24611600\t3\t100M\t=\t24611660\t151\tTAATTATTCCTCATAGGGAGAGAAGGATGAAGGGGTATGCTATATATTTTGTTAGTGGGTCTAGAATAATGGAGATGCGAATTATTCCGTAACTACCTAA\tFFFFFFFFFFFFFFFFFFFFFFFFFFFFFFFFFFFFFFFFFFFFFFFFFFFFFFFFFFFFFFFFFFFFFFFFFFFFFFFFFFFFFFFFFFFFFFFFFFFF\tNH:i:2\tHI:i:2\tNM:i:0\tMD:Z:100\r\n"
     ]
    }
   ],
   "source": [
    "! samtools view /mnt/data/D1-MAA000638-3_9_M-1-1_S159.mus.Aligned.out.sorted.bam | head"
   ]
  },
  {
   "cell_type": "markdown",
   "metadata": {},
   "source": [
    "[AddOrReplaceReadGroups](http://broadinstitute.github.io/picard/command-line-overview.html#AddOrReplaceReadGroups)\n",
    "\n",
    "Need to add a read group for the sample name, `RGSM`\n",
    "\n",
    "```\n",
    "java -jar picard.jar AddOrReplaceReadGroups \\\n",
    "      I=input.bam \\\n",
    "      O=output.bam \\\n",
    "      RGID=4 \\\n",
    "      RGLB=lib1 \\\n",
    "      RGPL=illumina \\\n",
    "      RGPU=unit1 \\\n",
    "      RGSM=20\n",
    "```"
   ]
  },
  {
   "cell_type": "markdown",
   "metadata": {},
   "source": [
    "Then combine multiple bam files into one with [GatherBamFiles](http://broadinstitute.github.io/picard/command-line-overview.html#GatherBamFiles)\n",
    "\n",
    "```\n",
    "java -jar picard.jar GatherBamFiles \\\n",
    "      I=input1.bam \\ \n",
    "      I=input2.bam \\ \n",
    "      O=gathered_files.bam\n",
    "```"
   ]
  },
  {
   "cell_type": "code",
   "execution_count": 6,
   "metadata": {},
   "outputs": [
    {
     "ename": "NameError",
     "evalue": "name 'sample_id' is not defined",
     "output_type": "error",
     "traceback": [
      "\u001b[0;31m---------------------------------------------------------------------------\u001b[0m",
      "\u001b[0;31mNameError\u001b[0m                                 Traceback (most recent call last)",
      "\u001b[0;32m<ipython-input-6-8de7c2342e97>\u001b[0m in \u001b[0;36m<module>\u001b[0;34m\u001b[0m\n\u001b[1;32m      1\u001b[0m \u001b[0;32mimport\u001b[0m \u001b[0mos\u001b[0m\u001b[0;34m\u001b[0m\u001b[0m\n\u001b[1;32m      2\u001b[0m \u001b[0;34m\u001b[0m\u001b[0m\n\u001b[0;32m----> 3\u001b[0;31m \u001b[0;32mfor\u001b[0m \u001b[0mi\u001b[0m\u001b[0;34m,\u001b[0m \u001b[0;34m(\u001b[0m\u001b[0msample_id\u001b[0m\u001b[0;34m,\u001b[0m \u001b[0mbam\u001b[0m\u001b[0;34m)\u001b[0m \u001b[0;32min\u001b[0m \u001b[0menumerate\u001b[0m\u001b[0;34m(\u001b[0m\u001b[0mzip\u001b[0m\u001b[0;34m(\u001b[0m\u001b[0msample_id\u001b[0m\u001b[0;34m,\u001b[0m \u001b[0mbams\u001b[0m\u001b[0;34m)\u001b[0m\u001b[0;34m)\u001b[0m\u001b[0;34m:\u001b[0m\u001b[0;34m\u001b[0m\u001b[0m\n\u001b[0m\u001b[1;32m      4\u001b[0m     \u001b[0mrun_id\u001b[0m \u001b[0;34m=\u001b[0m \u001b[0mos\u001b[0m\u001b[0;34m.\u001b[0m\u001b[0mpath\u001b[0m\u001b[0;34m.\u001b[0m\u001b[0mbasename\u001b[0m\u001b[0;34m(\u001b[0m\u001b[0mbam\u001b[0m\u001b[0;34m.\u001b[0m\u001b[0msplit\u001b[0m\u001b[0;34m(\u001b[0m\u001b[0;34m'/results'\u001b[0m\u001b[0;34m)\u001b[0m\u001b[0;34m[\u001b[0m\u001b[0;36m0\u001b[0m\u001b[0;34m]\u001b[0m\u001b[0;34m)\u001b[0m\u001b[0;34m\u001b[0m\u001b[0m\n\u001b[1;32m      5\u001b[0m     \u001b[0minput_bam\u001b[0m \u001b[0;34m=\u001b[0m \u001b[0;34mf\"/mnt/data/originals/{sample_id}.bam\"\u001b[0m\u001b[0;34m\u001b[0m\u001b[0m\n",
      "\u001b[0;31mNameError\u001b[0m: name 'sample_id' is not defined"
     ]
    }
   ],
   "source": [
    "import os\n",
    "\n",
    "vmax = int(np.log10(len(bams)))\n",
    "\n",
    "for i, (sample_id, bam) in enumerate(zip(sample_ids, bams)):\n",
    "    run_id = os.path.basename(bam.split('/results')[0])\n",
    "    input_bam = f\"/mnt/data/originals/{sample_id}.bam\"\n",
    "    output_bam = f\"/mnt/data/merged_0/{sample_id}.bam\"\n",
    "    ! aws s3 cp $bam $input_bam\n",
    "    ! picard AddOrReplaceReadGroups I=$input_bam O=$output_bam RGID=$sample_id RGLB=$run_id RGPL=Illumina RGPU=NovaSeq RGSM=$sample_id\n",
    "    \n",
    "    if i > 0:\n",
    "        for n in range(1, vmax+1):\n",
    "            if i %% 10**n == 0:\n",
    "                previous_merged = f\"/mnt/data/merged_{n-1}\"\n",
    "                unmerged = glob.glob(f\"{previous_merged}/*.bam\")\n",
    "                merged = f\"/mnt/data/merged_{n}/merged_{i}.bam\"\n",
    "                inputs = ' '.join([f'I={x}' for x in unmerged])\n",
    "                ! picard GatherBamFiles $inputs O=$merged\n",
    "                ! rm -rf $previous_merged/*.bam\n",
    "i = n = vmax + 1\n",
    "unmerged = glob.glob(f\"{previous_merged}/*.bam\")\n",
    "merged = f\"/mnt/data/merged_{n}/merged_{i}.bam\"\n",
    "inputs = ' '.join([f'I={x}' for x in unmerged])\n",
    "! picard GatherBamFiles $inputs O=$merged"
   ]
  },
  {
   "cell_type": "code",
   "execution_count": null,
   "metadata": {},
   "outputs": [],
   "source": []
  }
 ],
 "metadata": {
  "kernelspec": {
   "display_name": "Python 3",
   "language": "python",
   "name": "python3"
  },
  "language_info": {
   "codemirror_mode": {
    "name": "ipython",
    "version": 3
   },
   "file_extension": ".py",
   "mimetype": "text/x-python",
   "name": "python",
   "nbconvert_exporter": "python",
   "pygments_lexer": "ipython3",
   "version": "3.6.3"
  }
 },
 "nbformat": 4,
 "nbformat_minor": 2
}
